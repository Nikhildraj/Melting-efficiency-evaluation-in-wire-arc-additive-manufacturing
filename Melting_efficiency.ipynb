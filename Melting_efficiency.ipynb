{
 "cells": [
  {
   "cell_type": "markdown",
   "id": "045a5665",
   "metadata": {},
   "source": [
    "<h1 style='color:Blue' align='left'>Melting efficiency evaluation in wire arc additive manufacturing: A machine learning approach</h1> "
   ]
  },
  {
   "cell_type": "markdown",
   "id": "13f57bc5",
   "metadata": {},
   "source": [
    "<h3 style='color:orange' align='left'>Importing libraries and data</h3> "
   ]
  },
  {
   "cell_type": "code",
   "execution_count": 1,
   "id": "29475168",
   "metadata": {},
   "outputs": [],
   "source": [
    "import numpy as np\n",
    "import pandas as pd\n",
    "from matplotlib import pyplot as plt\n",
    "import seaborn as sns\n",
    "import itertools\n",
    "import warnings\n",
    "warnings.filterwarnings(\"ignore\")"
   ]
  },
  {
   "cell_type": "code",
   "execution_count": 2,
   "id": "5e308703",
   "metadata": {
    "scrolled": true
   },
   "outputs": [
    {
     "data": {
      "text/html": [
       "<div>\n",
       "<style scoped>\n",
       "    .dataframe tbody tr th:only-of-type {\n",
       "        vertical-align: middle;\n",
       "    }\n",
       "\n",
       "    .dataframe tbody tr th {\n",
       "        vertical-align: top;\n",
       "    }\n",
       "\n",
       "    .dataframe thead th {\n",
       "        text-align: right;\n",
       "    }\n",
       "</style>\n",
       "<table border=\"1\" class=\"dataframe\">\n",
       "  <thead>\n",
       "    <tr style=\"text-align: right;\">\n",
       "      <th></th>\n",
       "      <th>Wire_diameter</th>\n",
       "      <th>Wire_Feed_Speed</th>\n",
       "      <th>Travel_Speed</th>\n",
       "      <th>Power</th>\n",
       "      <th>Melting_Efficiency</th>\n",
       "    </tr>\n",
       "  </thead>\n",
       "  <tbody>\n",
       "    <tr>\n",
       "      <th>0</th>\n",
       "      <td>0.8</td>\n",
       "      <td>39.33</td>\n",
       "      <td>5.00</td>\n",
       "      <td>531.22</td>\n",
       "      <td>0.396</td>\n",
       "    </tr>\n",
       "    <tr>\n",
       "      <th>1</th>\n",
       "      <td>0.8</td>\n",
       "      <td>48.33</td>\n",
       "      <td>6.66</td>\n",
       "      <td>693.84</td>\n",
       "      <td>0.414</td>\n",
       "    </tr>\n",
       "    <tr>\n",
       "      <th>2</th>\n",
       "      <td>0.8</td>\n",
       "      <td>66.83</td>\n",
       "      <td>8.34</td>\n",
       "      <td>959.70</td>\n",
       "      <td>0.433</td>\n",
       "    </tr>\n",
       "    <tr>\n",
       "      <th>3</th>\n",
       "      <td>0.8</td>\n",
       "      <td>80.00</td>\n",
       "      <td>10.00</td>\n",
       "      <td>1113.30</td>\n",
       "      <td>0.446</td>\n",
       "    </tr>\n",
       "    <tr>\n",
       "      <th>4</th>\n",
       "      <td>0.8</td>\n",
       "      <td>94.33</td>\n",
       "      <td>11.67</td>\n",
       "      <td>1277.70</td>\n",
       "      <td>0.445</td>\n",
       "    </tr>\n",
       "  </tbody>\n",
       "</table>\n",
       "</div>"
      ],
      "text/plain": [
       "   Wire_diameter  Wire_Feed_Speed  Travel_Speed    Power  Melting_Efficiency\n",
       "0            0.8            39.33          5.00   531.22               0.396\n",
       "1            0.8            48.33          6.66   693.84               0.414\n",
       "2            0.8            66.83          8.34   959.70               0.433\n",
       "3            0.8            80.00         10.00  1113.30               0.446\n",
       "4            0.8            94.33         11.67  1277.70               0.445"
      ]
     },
     "execution_count": 2,
     "metadata": {},
     "output_type": "execute_result"
    }
   ],
   "source": [
    "df = pd.read_table('data.txt') \n",
    "df.head()"
   ]
  },
  {
   "cell_type": "code",
   "execution_count": 3,
   "id": "1165f31c",
   "metadata": {},
   "outputs": [
    {
     "name": "stdout",
     "output_type": "stream",
     "text": [
      "<class 'pandas.core.frame.DataFrame'>\n",
      "RangeIndex: 75 entries, 0 to 74\n",
      "Data columns (total 5 columns):\n",
      " #   Column              Non-Null Count  Dtype  \n",
      "---  ------              --------------  -----  \n",
      " 0   Wire_diameter       75 non-null     float64\n",
      " 1   Wire_Feed_Speed     75 non-null     float64\n",
      " 2   Travel_Speed        75 non-null     float64\n",
      " 3   Power               75 non-null     float64\n",
      " 4   Melting_Efficiency  75 non-null     float64\n",
      "dtypes: float64(5)\n",
      "memory usage: 3.1 KB\n"
     ]
    }
   ],
   "source": [
    "df.info()"
   ]
  },
  {
   "cell_type": "code",
   "execution_count": 4,
   "id": "2ef8030b",
   "metadata": {
    "scrolled": false
   },
   "outputs": [
    {
     "data": {
      "text/html": [
       "<div>\n",
       "<style scoped>\n",
       "    .dataframe tbody tr th:only-of-type {\n",
       "        vertical-align: middle;\n",
       "    }\n",
       "\n",
       "    .dataframe tbody tr th {\n",
       "        vertical-align: top;\n",
       "    }\n",
       "\n",
       "    .dataframe thead th {\n",
       "        text-align: right;\n",
       "    }\n",
       "</style>\n",
       "<table border=\"1\" class=\"dataframe\">\n",
       "  <thead>\n",
       "    <tr style=\"text-align: right;\">\n",
       "      <th></th>\n",
       "      <th>Wire_diameter</th>\n",
       "      <th>Wire_Feed_Speed</th>\n",
       "      <th>Travel_Speed</th>\n",
       "      <th>Power</th>\n",
       "      <th>Melting_Efficiency</th>\n",
       "    </tr>\n",
       "  </thead>\n",
       "  <tbody>\n",
       "    <tr>\n",
       "      <th>count</th>\n",
       "      <td>75.000000</td>\n",
       "      <td>75.000000</td>\n",
       "      <td>75.000000</td>\n",
       "      <td>75.000000</td>\n",
       "      <td>75.000000</td>\n",
       "    </tr>\n",
       "    <tr>\n",
       "      <th>mean</th>\n",
       "      <td>0.954667</td>\n",
       "      <td>95.451333</td>\n",
       "      <td>8.326533</td>\n",
       "      <td>1819.171733</td>\n",
       "      <td>0.445693</td>\n",
       "    </tr>\n",
       "    <tr>\n",
       "      <th>std</th>\n",
       "      <td>0.172653</td>\n",
       "      <td>53.012550</td>\n",
       "      <td>5.220140</td>\n",
       "      <td>757.431591</td>\n",
       "      <td>0.055220</td>\n",
       "    </tr>\n",
       "    <tr>\n",
       "      <th>min</th>\n",
       "      <td>0.800000</td>\n",
       "      <td>28.000000</td>\n",
       "      <td>1.660000</td>\n",
       "      <td>531.220000</td>\n",
       "      <td>0.307000</td>\n",
       "    </tr>\n",
       "    <tr>\n",
       "      <th>25%</th>\n",
       "      <td>0.800000</td>\n",
       "      <td>54.585000</td>\n",
       "      <td>4.450000</td>\n",
       "      <td>1171.550000</td>\n",
       "      <td>0.411000</td>\n",
       "    </tr>\n",
       "    <tr>\n",
       "      <th>50%</th>\n",
       "      <td>0.800000</td>\n",
       "      <td>80.330000</td>\n",
       "      <td>6.670000</td>\n",
       "      <td>1798.200000</td>\n",
       "      <td>0.445000</td>\n",
       "    </tr>\n",
       "    <tr>\n",
       "      <th>75%</th>\n",
       "      <td>1.200000</td>\n",
       "      <td>123.250000</td>\n",
       "      <td>10.980000</td>\n",
       "      <td>2435.315000</td>\n",
       "      <td>0.491500</td>\n",
       "    </tr>\n",
       "    <tr>\n",
       "      <th>90%</th>\n",
       "      <td>1.200000</td>\n",
       "      <td>188.198000</td>\n",
       "      <td>15.332000</td>\n",
       "      <td>2878.692000</td>\n",
       "      <td>0.512800</td>\n",
       "    </tr>\n",
       "    <tr>\n",
       "      <th>99%</th>\n",
       "      <td>1.200000</td>\n",
       "      <td>221.760000</td>\n",
       "      <td>23.764200</td>\n",
       "      <td>3243.092000</td>\n",
       "      <td>0.546340</td>\n",
       "    </tr>\n",
       "    <tr>\n",
       "      <th>max</th>\n",
       "      <td>1.200000</td>\n",
       "      <td>222.500000</td>\n",
       "      <td>25.000000</td>\n",
       "      <td>3266.550000</td>\n",
       "      <td>0.553000</td>\n",
       "    </tr>\n",
       "  </tbody>\n",
       "</table>\n",
       "</div>"
      ],
      "text/plain": [
       "       Wire_diameter  Wire_Feed_Speed  Travel_Speed        Power  \\\n",
       "count      75.000000        75.000000     75.000000    75.000000   \n",
       "mean        0.954667        95.451333      8.326533  1819.171733   \n",
       "std         0.172653        53.012550      5.220140   757.431591   \n",
       "min         0.800000        28.000000      1.660000   531.220000   \n",
       "25%         0.800000        54.585000      4.450000  1171.550000   \n",
       "50%         0.800000        80.330000      6.670000  1798.200000   \n",
       "75%         1.200000       123.250000     10.980000  2435.315000   \n",
       "90%         1.200000       188.198000     15.332000  2878.692000   \n",
       "99%         1.200000       221.760000     23.764200  3243.092000   \n",
       "max         1.200000       222.500000     25.000000  3266.550000   \n",
       "\n",
       "       Melting_Efficiency  \n",
       "count           75.000000  \n",
       "mean             0.445693  \n",
       "std              0.055220  \n",
       "min              0.307000  \n",
       "25%              0.411000  \n",
       "50%              0.445000  \n",
       "75%              0.491500  \n",
       "90%              0.512800  \n",
       "99%              0.546340  \n",
       "max              0.553000  "
      ]
     },
     "execution_count": 4,
     "metadata": {},
     "output_type": "execute_result"
    }
   ],
   "source": [
    "df.describe(percentiles=[0.25,0.5,0.75,0.9,0.99])"
   ]
  },
  {
   "cell_type": "markdown",
   "id": "3b9871b8",
   "metadata": {},
   "source": [
    "<h3 style='color:orange' align='left'>Checking for missing data and building intuition on the data</h3> "
   ]
  },
  {
   "cell_type": "code",
   "execution_count": 5,
   "id": "91d402f8",
   "metadata": {
    "scrolled": true
   },
   "outputs": [
    {
     "data": {
      "text/plain": [
       "Wire_diameter         0\n",
       "Wire_Feed_Speed       0\n",
       "Travel_Speed          0\n",
       "Power                 0\n",
       "Melting_Efficiency    0\n",
       "dtype: int64"
      ]
     },
     "execution_count": 5,
     "metadata": {},
     "output_type": "execute_result"
    }
   ],
   "source": [
    "df.isnull().sum()"
   ]
  },
  {
   "cell_type": "code",
   "execution_count": 6,
   "id": "d7b271f8",
   "metadata": {},
   "outputs": [
    {
     "data": {
      "text/plain": [
       "<seaborn.axisgrid.PairGrid at 0x2a333be5850>"
      ]
     },
     "execution_count": 6,
     "metadata": {},
     "output_type": "execute_result"
    },
    {
     "data": {
      "image/png": "[encoded data removed]",
      "text/plain": [
       "<Figure size 900x900 with 30 Axes>"
      ]
     },
     "metadata": {
      "needs_background": "light"
     },
     "output_type": "display_data"
    }
   ],
   "source": [
    "sns.pairplot(df,diag_kind='kde',diag_kws={'color':'yellow'})"
   ]
  },
  {
   "cell_type": "code",
   "execution_count": 7,
   "id": "cd752a02",
   "metadata": {},
   "outputs": [
    {
     "data": {
      "image/png": "[encoded data removed]",
      "text/plain": [
       "<Figure size 720x432 with 4 Axes>"
      ]
     },
     "metadata": {
      "needs_background": "light"
     },
     "output_type": "display_data"
    }
   ],
   "source": [
    "parameters = ['Wire_diameter', 'Wire_Feed_Speed','Travel_Speed','Power']\n",
    "\n",
    "fig = plt.figure()\n",
    "fig.set_size_inches((10,6))\n",
    "for i,parameter in enumerate(parameters):\n",
    "  plt.subplot(2,2,i+1)\n",
    "  plt.plot(df[parameter], df['Melting_Efficiency'],'rD')\n",
    "  plt.xlabel(parameter)\n",
    "  plt.ylabel('Melting_Efficiency')\n",
    "\n",
    "plt.tight_layout()\n",
    "\n"
   ]
  },
  {
   "cell_type": "code",
   "execution_count": 8,
   "id": "113e7b96",
   "metadata": {},
   "outputs": [
    {
     "data": {
      "text/plain": [
       "<AxesSubplot:>"
      ]
     },
     "execution_count": 8,
     "metadata": {},
     "output_type": "execute_result"
    },
    {
     "data": {
      "image/png": "[encoded data removed]",
      "text/plain": [
       "<Figure size 432x288 with 2 Axes>"
      ]
     },
     "metadata": {
      "needs_background": "light"
     },
     "output_type": "display_data"
    }
   ],
   "source": [
    "sns.heatmap(df.corr(),annot=True,cmap='coolwarm')"
   ]
  },
  {
   "cell_type": "code",
   "execution_count": 9,
   "id": "aa56cf25",
   "metadata": {},
   "outputs": [
    {
     "data": {
      "image/png": "[encoded data removed]",
      "text/plain": [
       "<Figure size 720x720 with 4 Axes>"
      ]
     },
     "metadata": {
      "needs_background": "light"
     },
     "output_type": "display_data"
    }
   ],
   "source": [
    "parameters = ['Wire_diameter', 'Wire_Feed_Speed','Travel_Speed','Power']\n",
    "\n",
    "fig = plt.figure()\n",
    "fig.set_size_inches((10,10))\n",
    "for i,parameter in enumerate(parameters):\n",
    "  plt.subplot(2,2,i+1)\n",
    "  sns.boxplot(df[parameter])\n",
    "\n",
    "plt.tight_layout()"
   ]
  },
  {
   "cell_type": "markdown",
   "id": "2842c0c4",
   "metadata": {},
   "source": [
    "<h3 style='color:orange' align='left'>Feature Scaling and defining dependent and independent variables</h3> "
   ]
  },
  {
   "cell_type": "code",
   "execution_count": 10,
   "id": "4dfcf242",
   "metadata": {},
   "outputs": [],
   "source": [
    "X=df.drop(['Melting_Efficiency'],axis='columns')\n",
    "y=df['Melting_Efficiency']"
   ]
  },
  {
   "cell_type": "code",
   "execution_count": 11,
   "id": "54758670",
   "metadata": {},
   "outputs": [],
   "source": [
    "from sklearn.preprocessing import MinMaxScaler\n",
    "scaler=MinMaxScaler()"
   ]
  },
  {
   "cell_type": "code",
   "execution_count": 12,
   "id": "5186e404",
   "metadata": {},
   "outputs": [
    {
     "data": {
      "text/html": [
       "<div>\n",
       "<style scoped>\n",
       "    .dataframe tbody tr th:only-of-type {\n",
       "        vertical-align: middle;\n",
       "    }\n",
       "\n",
       "    .dataframe tbody tr th {\n",
       "        vertical-align: top;\n",
       "    }\n",
       "\n",
       "    .dataframe thead th {\n",
       "        text-align: right;\n",
       "    }\n",
       "</style>\n",
       "<table border=\"1\" class=\"dataframe\">\n",
       "  <thead>\n",
       "    <tr style=\"text-align: right;\">\n",
       "      <th></th>\n",
       "      <th>0</th>\n",
       "      <th>1</th>\n",
       "      <th>2</th>\n",
       "      <th>3</th>\n",
       "    </tr>\n",
       "  </thead>\n",
       "  <tbody>\n",
       "    <tr>\n",
       "      <th>0</th>\n",
       "      <td>0.0</td>\n",
       "      <td>0.058252</td>\n",
       "      <td>0.143102</td>\n",
       "      <td>0.000000</td>\n",
       "    </tr>\n",
       "    <tr>\n",
       "      <th>1</th>\n",
       "      <td>0.0</td>\n",
       "      <td>0.104524</td>\n",
       "      <td>0.214225</td>\n",
       "      <td>0.059452</td>\n",
       "    </tr>\n",
       "    <tr>\n",
       "      <th>2</th>\n",
       "      <td>0.0</td>\n",
       "      <td>0.199640</td>\n",
       "      <td>0.286204</td>\n",
       "      <td>0.156647</td>\n",
       "    </tr>\n",
       "    <tr>\n",
       "      <th>3</th>\n",
       "      <td>0.0</td>\n",
       "      <td>0.267352</td>\n",
       "      <td>0.357326</td>\n",
       "      <td>0.212801</td>\n",
       "    </tr>\n",
       "    <tr>\n",
       "      <th>4</th>\n",
       "      <td>0.0</td>\n",
       "      <td>0.341028</td>\n",
       "      <td>0.428877</td>\n",
       "      <td>0.272903</td>\n",
       "    </tr>\n",
       "  </tbody>\n",
       "</table>\n",
       "</div>"
      ],
      "text/plain": [
       "     0         1         2         3\n",
       "0  0.0  0.058252  0.143102  0.000000\n",
       "1  0.0  0.104524  0.214225  0.059452\n",
       "2  0.0  0.199640  0.286204  0.156647\n",
       "3  0.0  0.267352  0.357326  0.212801\n",
       "4  0.0  0.341028  0.428877  0.272903"
      ]
     },
     "execution_count": 12,
     "metadata": {},
     "output_type": "execute_result"
    }
   ],
   "source": [
    "X_scaled=pd.DataFrame(scaler.fit_transform(X))\n",
    "X_scaled.head()"
   ]
  },
  {
   "cell_type": "markdown",
   "id": "11fd01b7",
   "metadata": {},
   "source": [
    "<h3 style='color:orange' align='left'>Splitting the dataset for training and testing, importing the regressors</h3> "
   ]
  },
  {
   "cell_type": "code",
   "execution_count": 13,
   "id": "0a4ca755",
   "metadata": {},
   "outputs": [],
   "source": [
    "from sklearn.model_selection import train_test_split\n",
    "X_scaled_train,X_scaled_test,y_train,y_test=train_test_split(X_scaled,y,test_size=0.2,random_state=7)"
   ]
  },
  {
   "cell_type": "code",
   "execution_count": 14,
   "id": "63520d37",
   "metadata": {},
   "outputs": [],
   "source": [
    "from sklearn.ensemble import ExtraTreesRegressor, RandomForestRegressor\n",
    "from sklearn.tree import DecisionTreeRegressor\n",
    "from sklearn.svm import SVR\n",
    "from sklearn.linear_model import LinearRegression, Ridge,Lasso\n",
    "from sklearn.neighbors import KNeighborsRegressor\n",
    "from sklearn.metrics import mean_squared_error,r2_score"
   ]
  },
  {
   "cell_type": "code",
   "execution_count": 15,
   "id": "cfde63e6",
   "metadata": {},
   "outputs": [],
   "source": [
    "regressors = [\n",
    "    LinearRegression(),\n",
    "    Ridge(),\n",
    "    Lasso(),\n",
    "    ExtraTreesRegressor(),\n",
    "    RandomForestRegressor(),\n",
    "    SVR(),\n",
    "    DecisionTreeRegressor()\n",
    "]"
   ]
  },
  {
   "cell_type": "markdown",
   "id": "1f4ed500",
   "metadata": {},
   "source": [
    "<h3 style='color:orange' align='left'>Checking the scores and mean square error of different regressors</h3> "
   ]
  },
  {
   "cell_type": "code",
   "execution_count": 16,
   "id": "8c36278e",
   "metadata": {
    "scrolled": true
   },
   "outputs": [
    {
     "data": {
      "text/html": [
       "<div>\n",
       "<style scoped>\n",
       "    .dataframe tbody tr th:only-of-type {\n",
       "        vertical-align: middle;\n",
       "    }\n",
       "\n",
       "    .dataframe tbody tr th {\n",
       "        vertical-align: top;\n",
       "    }\n",
       "\n",
       "    .dataframe thead th {\n",
       "        text-align: right;\n",
       "    }\n",
       "</style>\n",
       "<table border=\"1\" class=\"dataframe\">\n",
       "  <thead>\n",
       "    <tr style=\"text-align: right;\">\n",
       "      <th></th>\n",
       "      <th>Model</th>\n",
       "      <th>Score</th>\n",
       "      <th>Mean_Square_Error</th>\n",
       "    </tr>\n",
       "  </thead>\n",
       "  <tbody>\n",
       "    <tr>\n",
       "      <th>0</th>\n",
       "      <td>LinearRegression()</td>\n",
       "      <td>0.885160</td>\n",
       "      <td>0.000283</td>\n",
       "    </tr>\n",
       "    <tr>\n",
       "      <th>1</th>\n",
       "      <td>Ridge()</td>\n",
       "      <td>0.842658</td>\n",
       "      <td>0.000387</td>\n",
       "    </tr>\n",
       "    <tr>\n",
       "      <th>2</th>\n",
       "      <td>Lasso()</td>\n",
       "      <td>-0.093853</td>\n",
       "      <td>0.002693</td>\n",
       "    </tr>\n",
       "    <tr>\n",
       "      <th>3</th>\n",
       "      <td>(ExtraTreeRegressor(random_state=487401254), E...</td>\n",
       "      <td>0.953590</td>\n",
       "      <td>0.000114</td>\n",
       "    </tr>\n",
       "    <tr>\n",
       "      <th>4</th>\n",
       "      <td>(DecisionTreeRegressor(max_features='auto', ra...</td>\n",
       "      <td>0.938329</td>\n",
       "      <td>0.000152</td>\n",
       "    </tr>\n",
       "    <tr>\n",
       "      <th>5</th>\n",
       "      <td>SVR()</td>\n",
       "      <td>0.238273</td>\n",
       "      <td>0.001875</td>\n",
       "    </tr>\n",
       "    <tr>\n",
       "      <th>6</th>\n",
       "      <td>DecisionTreeRegressor()</td>\n",
       "      <td>0.905594</td>\n",
       "      <td>0.000232</td>\n",
       "    </tr>\n",
       "  </tbody>\n",
       "</table>\n",
       "</div>"
      ],
      "text/plain": [
       "                                               Model     Score  \\\n",
       "0                                 LinearRegression()  0.885160   \n",
       "1                                            Ridge()  0.842658   \n",
       "2                                            Lasso() -0.093853   \n",
       "3  (ExtraTreeRegressor(random_state=487401254), E...  0.953590   \n",
       "4  (DecisionTreeRegressor(max_features='auto', ra...  0.938329   \n",
       "5                                              SVR()  0.238273   \n",
       "6                            DecisionTreeRegressor()  0.905594   \n",
       "\n",
       "   Mean_Square_Error  \n",
       "0           0.000283  \n",
       "1           0.000387  \n",
       "2           0.002693  \n",
       "3           0.000114  \n",
       "4           0.000152  \n",
       "5           0.001875  \n",
       "6           0.000232  "
      ]
     },
     "execution_count": 16,
     "metadata": {},
     "output_type": "execute_result"
    }
   ],
   "source": [
    "scores=[]\n",
    "\n",
    "for model in regressors[:] :\n",
    "    model.fit(X_scaled_train, y_train.values.ravel())\n",
    "    y_pred = model.predict(X_scaled_test)   \n",
    "    scores.append({\n",
    "        'Model':model,\n",
    "        'Score':model.score(X_scaled_test, y_test.values.ravel()),\n",
    "        'Mean_Square_Error':mean_squared_error(y_test, y_pred),\n",
    "    })\n",
    "\n",
    "results = pd.DataFrame(scores,columns=['Model','Score','Mean_Square_Error'])\n",
    "results"
   ]
  },
  {
   "cell_type": "code",
   "execution_count": 17,
   "id": "91a2b05f",
   "metadata": {
    "scrolled": true
   },
   "outputs": [
    {
     "data": {
      "text/html": [
       "<div>\n",
       "<style scoped>\n",
       "    .dataframe tbody tr th:only-of-type {\n",
       "        vertical-align: middle;\n",
       "    }\n",
       "\n",
       "    .dataframe tbody tr th {\n",
       "        vertical-align: top;\n",
       "    }\n",
       "\n",
       "    .dataframe thead th {\n",
       "        text-align: right;\n",
       "    }\n",
       "</style>\n",
       "<table border=\"1\" class=\"dataframe\">\n",
       "  <thead>\n",
       "    <tr style=\"text-align: right;\">\n",
       "      <th></th>\n",
       "      <th>Model</th>\n",
       "      <th>Score</th>\n",
       "      <th>Mean_Square_Error</th>\n",
       "    </tr>\n",
       "  </thead>\n",
       "  <tbody>\n",
       "    <tr>\n",
       "      <th>3</th>\n",
       "      <td>(ExtraTreeRegressor(random_state=487401254), E...</td>\n",
       "      <td>0.953590</td>\n",
       "      <td>0.000114</td>\n",
       "    </tr>\n",
       "    <tr>\n",
       "      <th>4</th>\n",
       "      <td>(DecisionTreeRegressor(max_features='auto', ra...</td>\n",
       "      <td>0.938329</td>\n",
       "      <td>0.000152</td>\n",
       "    </tr>\n",
       "    <tr>\n",
       "      <th>6</th>\n",
       "      <td>DecisionTreeRegressor()</td>\n",
       "      <td>0.905594</td>\n",
       "      <td>0.000232</td>\n",
       "    </tr>\n",
       "  </tbody>\n",
       "</table>\n",
       "</div>"
      ],
      "text/plain": [
       "                                               Model     Score  \\\n",
       "3  (ExtraTreeRegressor(random_state=487401254), E...  0.953590   \n",
       "4  (DecisionTreeRegressor(max_features='auto', ra...  0.938329   \n",
       "6                            DecisionTreeRegressor()  0.905594   \n",
       "\n",
       "   Mean_Square_Error  \n",
       "3           0.000114  \n",
       "4           0.000152  \n",
       "6           0.000232  "
      ]
     },
     "execution_count": 17,
     "metadata": {},
     "output_type": "execute_result"
    }
   ],
   "source": [
    "results.nlargest(3, ['Score'])"
   ]
  },
  {
   "cell_type": "markdown",
   "id": "f711b009",
   "metadata": {},
   "source": [
    "<h4 style='color:red' align='left'>Here are the top three regressors for this dataset.</h4><h4 style='color:red' align='left'>Let's optimize the model further by hyperparameter tuning.</h4>"
   ]
  },
  {
   "cell_type": "markdown",
   "id": "070c6c1e",
   "metadata": {},
   "source": [
    "<h3 style='color:orange' align='left'>Hyperparameter tuning of Extra Tree Regressor</h3> "
   ]
  },
  {
   "cell_type": "code",
   "execution_count": 18,
   "id": "83688c71",
   "metadata": {},
   "outputs": [],
   "source": [
    "X_train,X_test,y_train,y_test=train_test_split(X,y,test_size=0.2,random_state=7)"
   ]
  },
  {
   "cell_type": "code",
   "execution_count": 19,
   "id": "9d5f640c",
   "metadata": {},
   "outputs": [
    {
     "data": {
      "text/html": [
       "<div>\n",
       "<style scoped>\n",
       "    .dataframe tbody tr th:only-of-type {\n",
       "        vertical-align: middle;\n",
       "    }\n",
       "\n",
       "    .dataframe tbody tr th {\n",
       "        vertical-align: top;\n",
       "    }\n",
       "\n",
       "    .dataframe thead th {\n",
       "        text-align: right;\n",
       "    }\n",
       "</style>\n",
       "<table border=\"1\" class=\"dataframe\">\n",
       "  <thead>\n",
       "    <tr style=\"text-align: right;\">\n",
       "      <th></th>\n",
       "      <th>n_estimator</th>\n",
       "      <th>Random_state</th>\n",
       "      <th>Criterion</th>\n",
       "      <th>Score</th>\n",
       "      <th>Mean_Square_Error</th>\n",
       "    </tr>\n",
       "  </thead>\n",
       "  <tbody>\n",
       "    <tr>\n",
       "      <th>0</th>\n",
       "      <td>5</td>\n",
       "      <td>0</td>\n",
       "      <td>squared_error</td>\n",
       "      <td>0.908339</td>\n",
       "      <td>0.000226</td>\n",
       "    </tr>\n",
       "    <tr>\n",
       "      <th>1</th>\n",
       "      <td>5</td>\n",
       "      <td>0</td>\n",
       "      <td>absolute_error</td>\n",
       "      <td>0.897700</td>\n",
       "      <td>0.000252</td>\n",
       "    </tr>\n",
       "    <tr>\n",
       "      <th>2</th>\n",
       "      <td>5</td>\n",
       "      <td>5</td>\n",
       "      <td>squared_error</td>\n",
       "      <td>0.973507</td>\n",
       "      <td>0.000065</td>\n",
       "    </tr>\n",
       "    <tr>\n",
       "      <th>3</th>\n",
       "      <td>5</td>\n",
       "      <td>5</td>\n",
       "      <td>absolute_error</td>\n",
       "      <td>0.937674</td>\n",
       "      <td>0.000153</td>\n",
       "    </tr>\n",
       "    <tr>\n",
       "      <th>4</th>\n",
       "      <td>5</td>\n",
       "      <td>10</td>\n",
       "      <td>squared_error</td>\n",
       "      <td>0.948072</td>\n",
       "      <td>0.000128</td>\n",
       "    </tr>\n",
       "  </tbody>\n",
       "</table>\n",
       "</div>"
      ],
      "text/plain": [
       "   n_estimator  Random_state       Criterion     Score  Mean_Square_Error\n",
       "0            5             0   squared_error  0.908339           0.000226\n",
       "1            5             0  absolute_error  0.897700           0.000252\n",
       "2            5             5   squared_error  0.973507           0.000065\n",
       "3            5             5  absolute_error  0.937674           0.000153\n",
       "4            5            10   squared_error  0.948072           0.000128"
      ]
     },
     "execution_count": 19,
     "metadata": {},
     "output_type": "execute_result"
    }
   ],
   "source": [
    "ne=[5,10,50,100,250,500]\n",
    "r_s=[0,5,10,20,50]\n",
    "criteria=['squared_error','absolute_error']\n",
    "\n",
    "scores_etr=[]\n",
    "\n",
    "\n",
    "for n,r,c in itertools.product(ne,r_s,criteria):\n",
    "\n",
    "    model_etr=ExtraTreesRegressor(n_estimators=n,random_state=r,criterion=c)\n",
    "    model_etr.fit(X_train, y_train.values.ravel())\n",
    "    model_etr.score(X_test, y_test.values.ravel())\n",
    "    y_pred_etr=model_etr.predict(X_test)\n",
    "    scores_etr.append({\n",
    "                'n_estimator':n,\n",
    "                'Random_state':r,\n",
    "                'Criterion':c,\n",
    "                'Score':model_etr.score(X_test, y_test.values.ravel()),\n",
    "                'Mean_Square_Error':mean_squared_error(y_test, y_pred_etr)\n",
    "            })\n",
    "\n",
    "results_etr = pd.DataFrame(scores_etr,columns=['n_estimator','Random_state','Criterion','Score','Mean_Square_Error'])\n",
    "results_etr.head()"
   ]
  },
  {
   "cell_type": "code",
   "execution_count": 20,
   "id": "0c1de3bf",
   "metadata": {
    "scrolled": true
   },
   "outputs": [
    {
     "data": {
      "text/plain": [
       "n_estimator                      5\n",
       "Random_state                     5\n",
       "Criterion            squared_error\n",
       "Score                     0.973507\n",
       "Mean_Square_Error         0.000065\n",
       "Name: 2, dtype: object"
      ]
     },
     "execution_count": 20,
     "metadata": {},
     "output_type": "execute_result"
    }
   ],
   "source": [
    "max_score = results_etr.loc[results_etr['Score'].idxmax()]\n",
    "max_score"
   ]
  },
  {
   "cell_type": "markdown",
   "id": "69ff9791",
   "metadata": {},
   "source": [
    "<h4 style='color:red' align='left'>We have the best parameters of Extra Tree Regressor for the dataset.</h4>"
   ]
  },
  {
   "cell_type": "markdown",
   "id": "3c1440c1",
   "metadata": {},
   "source": [
    "<h3 style='color:orange' align='left'>Finalizing Extra Tree Regressor model</h3> "
   ]
  },
  {
   "cell_type": "code",
   "execution_count": 21,
   "id": "355bd78c",
   "metadata": {},
   "outputs": [],
   "source": [
    "model_etr_final=ExtraTreesRegressor(n_estimators=5,random_state=5,criterion='squared_error')"
   ]
  },
  {
   "cell_type": "code",
   "execution_count": 22,
   "id": "7abec727",
   "metadata": {},
   "outputs": [],
   "source": [
    "model_etr_final.fit(X_train, y_train.values.ravel())\n",
    "y_pred_etr_final=model_etr_final.predict(X_test)"
   ]
  },
  {
   "cell_type": "code",
   "execution_count": 23,
   "id": "60f9efe6",
   "metadata": {},
   "outputs": [
    {
     "data": {
      "text/plain": [
       "0.9735068227035888"
      ]
     },
     "execution_count": 23,
     "metadata": {},
     "output_type": "execute_result"
    }
   ],
   "source": [
    "model_etr_final.score(X_test, y_test.values.ravel())"
   ]
  },
  {
   "cell_type": "code",
   "execution_count": 24,
   "id": "1b6041aa",
   "metadata": {
    "scrolled": true
   },
   "outputs": [
    {
     "data": {
      "text/plain": [
       "6.521866666666688e-05"
      ]
     },
     "execution_count": 24,
     "metadata": {},
     "output_type": "execute_result"
    }
   ],
   "source": [
    "mean_squared_error(y_test, y_pred_etr_final)"
   ]
  },
  {
   "cell_type": "code",
   "execution_count": 25,
   "id": "af84d846",
   "metadata": {},
   "outputs": [],
   "source": [
    "y_pred_train=model_etr_final.predict(X_train)"
   ]
  },
  {
   "cell_type": "code",
   "execution_count": 26,
   "id": "681b905c",
   "metadata": {},
   "outputs": [
    {
     "name": "stdout",
     "output_type": "stream",
     "text": [
      "\n"
     ]
    },
    {
     "data": {
      "image/png": "[encoded data removed]",
      "text/plain": [
       "<Figure size 432x288 with 1 Axes>"
      ]
     },
     "metadata": {
      "needs_background": "light"
     },
     "output_type": "display_data"
    }
   ],
   "source": [
    "plt.plot(y_train, y_pred_train, 'bx', label = 'Train')\n",
    "plt.plot([y_pred_train.min(), y_pred_train.max()], [y_pred_train.min(), y_pred_train.max()], 'k--')\n",
    "plt.plot(y_test, y_pred_etr_final, 'ro', label = 'Test')\n",
    "plt.plot([y_pred_etr_final.min(), y_pred_etr_final.max()], [y_pred_etr_final.min(), y_pred_etr_final.max()], 'k--')\n",
    "plt.legend()\n",
    "plt.xlabel('Predicted Melting Efficiency')\n",
    "plt.ylabel('Practical Melting Efficiency')\n",
    "\n",
    "print()"
   ]
  },
  {
   "cell_type": "code",
   "execution_count": 27,
   "id": "3cbede93",
   "metadata": {},
   "outputs": [
    {
     "data": {
      "image/png": "[encoded data removed]",
      "text/plain": [
       "<Figure size 648x432 with 1 Axes>"
      ]
     },
     "metadata": {
      "needs_background": "light"
     },
     "output_type": "display_data"
    }
   ],
   "source": [
    "importance = model_etr_final.feature_importances_\n",
    "\n",
    "x_pos = np.arange(len(parameters))\n",
    "\n",
    "\n",
    "fig, ax = plt.subplots()\n",
    "fig.set_size_inches((9,6))\n",
    "\n",
    "ax.bar(x_pos, importance, align='center', alpha=1, color='blue')\n",
    "ax.set_ylabel('Importance')\n",
    "ax.set_xticks(x_pos)\n",
    "ax.set_xticklabels(parameters)\n",
    "ax.set_title('Features Importance Analysis')\n",
    "ax.yaxis.grid(True)"
   ]
  },
  {
   "cell_type": "markdown",
   "id": "8ecf6ed4",
   "metadata": {},
   "source": [
    "<h3 style='color:orange' align='left'>Hyperparameter tuning of Random Forest Regressor</h3> "
   ]
  },
  {
   "cell_type": "code",
   "execution_count": 28,
   "id": "d581c47f",
   "metadata": {
    "scrolled": false
   },
   "outputs": [
    {
     "data": {
      "text/html": [
       "<div>\n",
       "<style scoped>\n",
       "    .dataframe tbody tr th:only-of-type {\n",
       "        vertical-align: middle;\n",
       "    }\n",
       "\n",
       "    .dataframe tbody tr th {\n",
       "        vertical-align: top;\n",
       "    }\n",
       "\n",
       "    .dataframe thead th {\n",
       "        text-align: right;\n",
       "    }\n",
       "</style>\n",
       "<table border=\"1\" class=\"dataframe\">\n",
       "  <thead>\n",
       "    <tr style=\"text-align: right;\">\n",
       "      <th></th>\n",
       "      <th>N_estimators</th>\n",
       "      <th>Random_state</th>\n",
       "      <th>Criterion</th>\n",
       "      <th>Score</th>\n",
       "      <th>Mean_Square_Error</th>\n",
       "    </tr>\n",
       "  </thead>\n",
       "  <tbody>\n",
       "    <tr>\n",
       "      <th>0</th>\n",
       "      <td>10</td>\n",
       "      <td>1</td>\n",
       "      <td>squared_error</td>\n",
       "      <td>0.946381</td>\n",
       "      <td>0.000132</td>\n",
       "    </tr>\n",
       "    <tr>\n",
       "      <th>1</th>\n",
       "      <td>10</td>\n",
       "      <td>1</td>\n",
       "      <td>absolute_error</td>\n",
       "      <td>0.930218</td>\n",
       "      <td>0.000172</td>\n",
       "    </tr>\n",
       "    <tr>\n",
       "      <th>2</th>\n",
       "      <td>10</td>\n",
       "      <td>1</td>\n",
       "      <td>friedman_mse</td>\n",
       "      <td>0.946692</td>\n",
       "      <td>0.000131</td>\n",
       "    </tr>\n",
       "    <tr>\n",
       "      <th>3</th>\n",
       "      <td>10</td>\n",
       "      <td>1</td>\n",
       "      <td>poisson</td>\n",
       "      <td>0.886730</td>\n",
       "      <td>0.000279</td>\n",
       "    </tr>\n",
       "    <tr>\n",
       "      <th>4</th>\n",
       "      <td>10</td>\n",
       "      <td>2</td>\n",
       "      <td>squared_error</td>\n",
       "      <td>0.929280</td>\n",
       "      <td>0.000174</td>\n",
       "    </tr>\n",
       "  </tbody>\n",
       "</table>\n",
       "</div>"
      ],
      "text/plain": [
       "   N_estimators  Random_state       Criterion     Score  Mean_Square_Error\n",
       "0            10             1   squared_error  0.946381           0.000132\n",
       "1            10             1  absolute_error  0.930218           0.000172\n",
       "2            10             1    friedman_mse  0.946692           0.000131\n",
       "3            10             1         poisson  0.886730           0.000279\n",
       "4            10             2   squared_error  0.929280           0.000174"
      ]
     },
     "execution_count": 28,
     "metadata": {},
     "output_type": "execute_result"
    }
   ],
   "source": [
    "ne=[10,25,50,75,100,150,200]\n",
    "r_s=[1,2,4,6,8,10]\n",
    "criteria=['squared_error','absolute_error','friedman_mse','poisson']\n",
    "\n",
    "scores_rfr=[]\n",
    "\n",
    "for ne,rs,c in itertools.product(ne,r_s,criteria):\n",
    "\n",
    "    model_rfr=RandomForestRegressor(n_estimators=ne,criterion=c,random_state=rs)\n",
    "    model_rfr.fit(X_scaled_train, y_train.values.ravel())\n",
    "    model_rfr.score(X_scaled_test, y_test.values.ravel())\n",
    "    y_pred_rfr=model_rfr.predict(X_scaled_test)\n",
    "    scores_rfr.append({\n",
    "                 'N_estimators':ne,\n",
    "                 'Random_state':rs,\n",
    "                 'Criterion':c,\n",
    "                 'Score':model_rfr.score(X_scaled_test, y_test.values.ravel()),\n",
    "                 'Mean_Square_Error':mean_squared_error(y_test, y_pred_rfr)\n",
    "                    })\n",
    "\n",
    "results_rfr = pd.DataFrame(scores_rfr,columns=['N_estimators','Random_state','Criterion','Score','Mean_Square_Error'])\n",
    "results_rfr.head()"
   ]
  },
  {
   "cell_type": "code",
   "execution_count": 29,
   "id": "fa70e525",
   "metadata": {},
   "outputs": [
    {
     "data": {
      "text/plain": [
       "N_estimators                   10\n",
       "Random_state                    1\n",
       "Criterion            friedman_mse\n",
       "Score                    0.946692\n",
       "Mean_Square_Error        0.000131\n",
       "Name: 2, dtype: object"
      ]
     },
     "execution_count": 29,
     "metadata": {},
     "output_type": "execute_result"
    }
   ],
   "source": [
    "max_score_rfr = results_rfr.loc[results_rfr['Score'].idxmax()]\n",
    "max_score_rfr"
   ]
  },
  {
   "cell_type": "markdown",
   "id": "e62043ab",
   "metadata": {},
   "source": [
    "<h4 style='color:red' align='left'>We have the best parameters of Random Forest Regressor for the dataset.</h4>"
   ]
  },
  {
   "cell_type": "markdown",
   "id": "281946d9",
   "metadata": {},
   "source": [
    "<h3 style='color:orange' align='left'>Finalizing Random Forest Regressor model</h3> "
   ]
  },
  {
   "cell_type": "code",
   "execution_count": 30,
   "id": "a0880899",
   "metadata": {},
   "outputs": [
    {
     "data": {
      "text/plain": [
       "0.9466921893674873"
      ]
     },
     "execution_count": 30,
     "metadata": {},
     "output_type": "execute_result"
    }
   ],
   "source": [
    "model_rfr_final=RandomForestRegressor(n_estimators=10,criterion='friedman_mse',random_state=1)\n",
    "model_rfr_final.fit(X_train, y_train.values.ravel())\n",
    "y_pred_rfr_final=model_rfr_final.predict(X_test)\n",
    "model_rfr_final.score(X_test, y_test.values.ravel())"
   ]
  },
  {
   "cell_type": "code",
   "execution_count": 31,
   "id": "55f3828f",
   "metadata": {},
   "outputs": [
    {
     "data": {
      "text/plain": [
       "0.0001312286666666664"
      ]
     },
     "execution_count": 31,
     "metadata": {},
     "output_type": "execute_result"
    }
   ],
   "source": [
    "mean_squared_error(y_test, y_pred_rfr_final)"
   ]
  },
  {
   "cell_type": "code",
   "execution_count": 32,
   "id": "55b20e00",
   "metadata": {},
   "outputs": [],
   "source": [
    "y_pred_train=model_rfr_final.predict(X_train)"
   ]
  },
  {
   "cell_type": "code",
   "execution_count": 33,
   "id": "b6ecc860",
   "metadata": {},
   "outputs": [
    {
     "name": "stdout",
     "output_type": "stream",
     "text": [
      "\n"
     ]
    },
    {
     "data": {
      "image/png": "[encoded data removed]",
      "text/plain": [
       "<Figure size 432x288 with 1 Axes>"
      ]
     },
     "metadata": {
      "needs_background": "light"
     },
     "output_type": "display_data"
    }
   ],
   "source": [
    "plt.plot(y_train, y_pred_train, 'bx', label = 'Train')\n",
    "plt.plot([y_pred_train.min(), y_pred_train.max()], [y_pred_train.min(), y_pred_train.max()], 'k--')\n",
    "plt.plot(y_test, y_pred_rfr_final, 'ro', label = 'Test')\n",
    "plt.plot([y_pred_rfr_final.min(), y_pred_rfr_final.max()], [y_pred_rfr_final.min(), y_pred_rfr_final.max()], 'k--')\n",
    "plt.legend()\n",
    "plt.xlabel('Predicted Melting Efficiency')\n",
    "plt.ylabel('Practical Melting Efficiency')\n",
    "\n",
    "print()"
   ]
  },
  {
   "cell_type": "code",
   "execution_count": 34,
   "id": "5fd721dc",
   "metadata": {},
   "outputs": [
    {
     "data": {
      "image/png": "[encoded data removed]",
      "text/plain": [
       "<Figure size 648x432 with 1 Axes>"
      ]
     },
     "metadata": {
      "needs_background": "light"
     },
     "output_type": "display_data"
    }
   ],
   "source": [
    "importance = model_rfr_final.feature_importances_\n",
    "\n",
    "x_pos = np.arange(len(parameters))\n",
    "\n",
    "\n",
    "fig, ax = plt.subplots()\n",
    "fig.set_size_inches((9,6))\n",
    "\n",
    "ax.bar(x_pos, importance, align='center', alpha=0.95, color='blue')\n",
    "ax.set_ylabel('Importance')\n",
    "ax.set_xticks(x_pos)\n",
    "ax.set_xticklabels(parameters)\n",
    "ax.set_title('Features Importance Analysis')\n",
    "ax.yaxis.grid(True)"
   ]
  },
  {
   "cell_type": "markdown",
   "id": "632397f1",
   "metadata": {},
   "source": [
    "<h3 style='color:orange' align='left'>Hyperparameter tuning of Decision Tree Regressor</h3> "
   ]
  },
  {
   "cell_type": "code",
   "execution_count": 35,
   "id": "4d5be6bb",
   "metadata": {},
   "outputs": [
    {
     "data": {
      "text/html": [
       "<div>\n",
       "<style scoped>\n",
       "    .dataframe tbody tr th:only-of-type {\n",
       "        vertical-align: middle;\n",
       "    }\n",
       "\n",
       "    .dataframe tbody tr th {\n",
       "        vertical-align: top;\n",
       "    }\n",
       "\n",
       "    .dataframe thead th {\n",
       "        text-align: right;\n",
       "    }\n",
       "</style>\n",
       "<table border=\"1\" class=\"dataframe\">\n",
       "  <thead>\n",
       "    <tr style=\"text-align: right;\">\n",
       "      <th></th>\n",
       "      <th>Splitter</th>\n",
       "      <th>Random_state</th>\n",
       "      <th>Criterion</th>\n",
       "      <th>Score</th>\n",
       "      <th>Mean_Square_Error</th>\n",
       "    </tr>\n",
       "  </thead>\n",
       "  <tbody>\n",
       "    <tr>\n",
       "      <th>0</th>\n",
       "      <td>best</td>\n",
       "      <td>1</td>\n",
       "      <td>squared_error</td>\n",
       "      <td>0.905161</td>\n",
       "      <td>0.000271</td>\n",
       "    </tr>\n",
       "    <tr>\n",
       "      <th>1</th>\n",
       "      <td>best</td>\n",
       "      <td>1</td>\n",
       "      <td>absolute_error</td>\n",
       "      <td>0.872636</td>\n",
       "      <td>0.000271</td>\n",
       "    </tr>\n",
       "    <tr>\n",
       "      <th>2</th>\n",
       "      <td>best</td>\n",
       "      <td>1</td>\n",
       "      <td>friedman_mse</td>\n",
       "      <td>0.907869</td>\n",
       "      <td>0.000271</td>\n",
       "    </tr>\n",
       "    <tr>\n",
       "      <th>3</th>\n",
       "      <td>best</td>\n",
       "      <td>1</td>\n",
       "      <td>poisson</td>\n",
       "      <td>0.853923</td>\n",
       "      <td>0.000271</td>\n",
       "    </tr>\n",
       "    <tr>\n",
       "      <th>4</th>\n",
       "      <td>best</td>\n",
       "      <td>2</td>\n",
       "      <td>squared_error</td>\n",
       "      <td>0.927341</td>\n",
       "      <td>0.000271</td>\n",
       "    </tr>\n",
       "  </tbody>\n",
       "</table>\n",
       "</div>"
      ],
      "text/plain": [
       "  Splitter  Random_state       Criterion     Score  Mean_Square_Error\n",
       "0     best             1   squared_error  0.905161           0.000271\n",
       "1     best             1  absolute_error  0.872636           0.000271\n",
       "2     best             1    friedman_mse  0.907869           0.000271\n",
       "3     best             1         poisson  0.853923           0.000271\n",
       "4     best             2   squared_error  0.927341           0.000271"
      ]
     },
     "execution_count": 35,
     "metadata": {},
     "output_type": "execute_result"
    }
   ],
   "source": [
    "splitters=['best','random']\n",
    "r_s=[1,2,4,6,8,10]\n",
    "criteria=['squared_error','absolute_error','friedman_mse','poisson']\n",
    "\n",
    "scores_dtr=[]\n",
    "\n",
    "\n",
    "for s,rs,c in itertools.product(splitters,r_s,criteria):\n",
    "\n",
    "    model_dtr=DecisionTreeRegressor(splitter=s,criterion=c,random_state=rs)\n",
    "    model_dtr.fit(X_scaled_train, y_train.values.ravel())\n",
    "    model_dtr.score(X_scaled_test, y_test.values.ravel())\n",
    "    y_pred_dtr=model_dtr.predict(X_scaled_test)\n",
    "    scores_dtr.append({\n",
    "                 'Splitter':s,\n",
    "                 'Random_state':rs,\n",
    "                 'Criterion':c,\n",
    "                 'Score':model_dtr.score(X_scaled_test, y_test.values.ravel()),\n",
    "                 'Mean_Square_Error':mean_squared_error(y_test, y_pred_rfr)\n",
    "                    })\n",
    "\n",
    "results_dtr = pd.DataFrame(scores_dtr,columns=['Splitter','Random_state','Criterion','Score','Mean_Square_Error'])\n",
    "results_dtr.head()"
   ]
  },
  {
   "cell_type": "code",
   "execution_count": 36,
   "id": "1230c4d0",
   "metadata": {},
   "outputs": [
    {
     "data": {
      "text/plain": [
       "Splitter                     best\n",
       "Random_state                    6\n",
       "Criterion            friedman_mse\n",
       "Score                    0.935384\n",
       "Mean_Square_Error        0.000271\n",
       "Name: 14, dtype: object"
      ]
     },
     "execution_count": 36,
     "metadata": {},
     "output_type": "execute_result"
    }
   ],
   "source": [
    "max_score_dtr = results_dtr.loc[results_dtr['Score'].idxmax()]\n",
    "max_score_dtr"
   ]
  },
  {
   "cell_type": "markdown",
   "id": "d1626c73",
   "metadata": {},
   "source": [
    "<h4 style='color:red' align='left'>We have the best parameters of Decision Tree Regressor for the dataset.</h4>"
   ]
  },
  {
   "cell_type": "markdown",
   "id": "3b8004af",
   "metadata": {},
   "source": [
    "<h3 style='color:orange' align='left'>Finalizing Decision Tree Regressor model</h3> "
   ]
  },
  {
   "cell_type": "code",
   "execution_count": 37,
   "id": "8dfcfcca",
   "metadata": {},
   "outputs": [
    {
     "data": {
      "text/plain": [
       "0.9353838154421668"
      ]
     },
     "execution_count": 37,
     "metadata": {},
     "output_type": "execute_result"
    }
   ],
   "source": [
    "model_dtr_final=DecisionTreeRegressor(splitter='best',criterion='friedman_mse',random_state=6)\n",
    "model_dtr_final.fit(X_train, y_train.values.ravel())\n",
    "y_pred_dtr_final=model_dtr_final.predict(X_test)\n",
    "model_dtr_final.score(X_test, y_test.values.ravel())"
   ]
  },
  {
   "cell_type": "code",
   "execution_count": 38,
   "id": "45927608",
   "metadata": {},
   "outputs": [
    {
     "data": {
      "text/plain": [
       "0.00015906666666666672"
      ]
     },
     "execution_count": 38,
     "metadata": {},
     "output_type": "execute_result"
    }
   ],
   "source": [
    "mean_squared_error(y_test, y_pred_dtr_final)"
   ]
  },
  {
   "cell_type": "code",
   "execution_count": 39,
   "id": "f22f2181",
   "metadata": {},
   "outputs": [],
   "source": [
    "y_pred_train=model_rfr_final.predict(X_train)"
   ]
  },
  {
   "cell_type": "code",
   "execution_count": 40,
   "id": "53715ad4",
   "metadata": {
    "scrolled": true
   },
   "outputs": [
    {
     "name": "stdout",
     "output_type": "stream",
     "text": [
      "\n"
     ]
    },
    {
     "data": {
      "image/png": "[encoded data removed]",
      "text/plain": [
       "<Figure size 432x288 with 1 Axes>"
      ]
     },
     "metadata": {
      "needs_background": "light"
     },
     "output_type": "display_data"
    }
   ],
   "source": [
    "plt.plot(y_train, y_pred_train, 'bx', label = 'Train')\n",
    "plt.plot([y_pred_train.min(), y_pred_train.max()], [y_pred_train.min(), y_pred_train.max()], 'k--')\n",
    "plt.plot(y_test, y_pred_dtr_final, 'ro', label = 'Test')\n",
    "plt.plot([y_pred_dtr_final.min(), y_pred_dtr_final.max()], [y_pred_dtr_final.min(), y_pred_dtr_final.max()], 'k--')\n",
    "plt.legend()\n",
    "plt.xlabel('Predicted Melting Efficiency')\n",
    "plt.ylabel('Practical Melting Efficiency')\n",
    "\n",
    "print()"
   ]
  },
  {
   "cell_type": "code",
   "execution_count": 41,
   "id": "edf94e81",
   "metadata": {},
   "outputs": [
    {
     "data": {
      "image/png": "[encoded data removed]",
      "text/plain": [
       "<Figure size 648x432 with 1 Axes>"
      ]
     },
     "metadata": {
      "needs_background": "light"
     },
     "output_type": "display_data"
    }
   ],
   "source": [
    "importance = model_dtr_final.feature_importances_\n",
    "\n",
    "x_pos = np.arange(len(parameters))\n",
    "\n",
    "\n",
    "fig, ax = plt.subplots()\n",
    "fig.set_size_inches((9,6))\n",
    "\n",
    "ax.bar(x_pos, importance, align='center', alpha=0.95, color='blue')\n",
    "ax.set_ylabel('Importance')\n",
    "ax.set_xticks(x_pos)\n",
    "ax.set_xticklabels(parameters)\n",
    "ax.set_title('Features Importance Analysis')\n",
    "ax.yaxis.grid(True)"
   ]
  },
  {
   "cell_type": "code",
   "execution_count": 42,
   "id": "250015cc",
   "metadata": {},
   "outputs": [
    {
     "name": "stdout",
     "output_type": "stream",
     "text": [
      "Scores:\n",
      "Extra Tree Regressor:\t\t 0.9735068227035888 \n",
      "Random Forest Regressor:\t 0.9466921893674873 \n",
      "Decision Tree Regressor:\t 0.9353838154421668\n"
     ]
    }
   ],
   "source": [
    "print('Scores:\\nExtra Tree Regressor:\\t\\t',model_etr_final.score(X_test, y_test.values.ravel()),'\\nRandom Forest Regressor:\\t',model_rfr_final.score(X_test, y_test.values.ravel()),'\\nDecision Tree Regressor:\\t',model_dtr_final.score(X_test, y_test.values.ravel()))"
   ]
  },
  {
   "cell_type": "markdown",
   "id": "c2038dc8",
   "metadata": {},
   "source": [
    "<h2 style='color:Blue' align='left'>Extra Tree Regressor is the best regressor to predict Melting Efficiency  </h2> "
   ]
  }
 ],
 "metadata": {
  "kernelspec": {
   "display_name": "Python 3 (ipykernel)",
   "language": "python",
   "name": "python3"
  },
  "language_info": {
   "codemirror_mode": {
    "name": "ipython",
    "version": 3
   },
   "file_extension": ".py",
   "mimetype": "text/x-python",
   "name": "python",
   "nbconvert_exporter": "python",
   "pygments_lexer": "ipython3",
   "version": "3.9.12"
  }
 },
 "nbformat": 4,
 "nbformat_minor": 5
}
